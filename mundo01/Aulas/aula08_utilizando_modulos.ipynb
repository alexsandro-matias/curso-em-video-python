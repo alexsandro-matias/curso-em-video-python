{
 "cells": [
  {
   "cell_type": "markdown",
   "id": "cee4718e",
   "metadata": {},
   "source": [
    "Aula 08 - Utilizando Módulos"
   ]
  },
  {
   "cell_type": "markdown",
   "id": "bdd7ac2b",
   "metadata": {},
   "source": [
    "## De forma completa para cálculo da raiz quadrada:"
   ]
  },
  {
   "cell_type": "code",
   "execution_count": 3,
   "id": "493939d1",
   "metadata": {},
   "outputs": [
    {
     "name": "stdout",
     "output_type": "stream",
     "text": [
      "A raiz de 10.0 é 3\n"
     ]
    }
   ],
   "source": [
    "import math\n",
    "numero = float(input('Digite um número: '))\n",
    "raiz = math.sqrt(numero)\n",
    "# Arreondando para cima\n",
    "print('A raiz de {} é {}'.format(numero, math.floor(raiz)))"
   ]
  },
  {
   "cell_type": "code",
   "execution_count": 4,
   "id": "80d22e2c",
   "metadata": {},
   "outputs": [],
   "source": [
    "## De forma otimizada:"
   ]
  },
  {
   "cell_type": "code",
   "execution_count": 5,
   "id": "98307e73",
   "metadata": {},
   "outputs": [
    {
     "name": "stdout",
     "output_type": "stream",
     "text": [
      "A raiz de 10.0 é 3.1622776601683795\n"
     ]
    }
   ],
   "source": [
    "from math import sqrt, ceil, trunc, floor\n",
    "numero = float(input('Digite um número: '))\n",
    "raiz = math.sqrt(numero)\n",
    "print('A raiz de {} é {}'.format(numero, raiz))"
   ]
  },
  {
   "cell_type": "code",
   "execution_count": 6,
   "id": "bd72da03",
   "metadata": {},
   "outputs": [
    {
     "name": "stdout",
     "output_type": "stream",
     "text": [
      "4\n"
     ]
    }
   ],
   "source": [
    "# módulos são adicionados para algumas funcionalidades específicas,\n",
    "# já que o Python por padrão não vem completo (built-in), ou seja,\n",
    "# um número limitado de comandos. O objetivo de é performance.\n",
    "# Nesse caso, precisamos de módulos (pacotes).\n",
    "# Para inclusão de alguma biblioteca,\n",
    "# é necessário a palavra reservada import.\n",
    "# O uso pode ser de forma completa (toda a biblioteca), através da forma:\n",
    "# import math\n",
    "\n",
    "\n",
    "# ou de forma específica, ou importação otimizada\n",
    "# from math import ceil\n",
    "# Neste caso, a importação serve para fazer o arrendondamento para cima.\n",
    "# Mesmo ela contento essa biblioteca, não preciso importar toda a biblioteca,\n",
    "# poupando um pouco mais de memória.\n",
    "# Já para fazer o arrendondamento para baixo, utiliza-se a floor.\n",
    "# Mais funcionalidades:\n",
    "# trunc - truncar - eliminar a casa decimal.\n",
    "# pow - potência - potência.\n",
    "# sqrt - square root - raiz quadrada.\n",
    "# factorial - fatorial.\n",
    "\n",
    "# Exemplo para números aleatórios usando a biblioteca random\n",
    "import random\n",
    "num = random.randint(1, 10)\n",
    "print(num)\n",
    "# Para ter acesso às bibliotecas possíveis de serem importas, iremos no site:\n",
    "# https://pypi.org/\n"
   ]
  }
 ],
 "metadata": {
  "kernelspec": {
   "display_name": "Python 3",
   "language": "python",
   "name": "python3"
  },
  "language_info": {
   "codemirror_mode": {
    "name": "ipython",
    "version": 3
   },
   "file_extension": ".py",
   "mimetype": "text/x-python",
   "name": "python",
   "nbconvert_exporter": "python",
   "pygments_lexer": "ipython3",
   "version": "3.13.2"
  }
 },
 "nbformat": 4,
 "nbformat_minor": 5
}

{
 "cells": [
  {
   "cell_type": "markdown",
   "id": "e75f5c36",
   "metadata": {},
   "source": [
    "# Variáveis Compostas\n",
    "## Tuplas, Listas e Dicionários\n",
    "- () - Tuplas - A partir do Python 3.5 o uso dos () é facultativo.\n",
    "- [] - Listas\n",
    "- {} - Dicionários\n",
    "\n"
   ]
  },
  {
   "cell_type": "markdown",
   "id": "35b6aa2c",
   "metadata": {},
   "source": [
    "Strings são variáveis consideradas compostas"
   ]
  },
  {
   "cell_type": "code",
   "execution_count": 2,
   "id": "1dee158d",
   "metadata": {},
   "outputs": [],
   "source": [
    "lanche = ('Hamburguer', 'suco', 'pizza', 'pudim')"
   ]
  },
  {
   "cell_type": "markdown",
   "id": "a8aa7e3e",
   "metadata": {},
   "source": [
    "Da mesma forma, o fateamento pode ser aplicado nas tuplas."
   ]
  },
  {
   "cell_type": "code",
   "execution_count": null,
   "id": "bc67911f",
   "metadata": {},
   "outputs": [
    {
     "name": "stdout",
     "output_type": "stream",
     "text": [
      "Hamburguer\n",
      "('suco', 'pizza', 'pudim')\n",
      "pudim\n",
      "pizza\n",
      "('Hamburguer', 'suco')\n",
      "4\n"
     ]
    }
   ],
   "source": [
    "print(lanche[0])\n",
    "print(lanche[1:])\n",
    "print(lanche[-1])\n",
    "print(lanche[-2])\n",
    "print(lanche[:2])\n",
    "print(len(lanche))"
   ]
  },
  {
   "cell_type": "markdown",
   "id": "a962979a",
   "metadata": {},
   "source": [
    "As estruturas de repetição aplicadas às tuplas:\n"
   ]
  },
  {
   "cell_type": "code",
   "execution_count": 4,
   "id": "b52bea2d",
   "metadata": {},
   "outputs": [
    {
     "name": "stdout",
     "output_type": "stream",
     "text": [
      "Hamburguer\n",
      "suco\n",
      "pizza\n",
      "pudim\n"
     ]
    }
   ],
   "source": [
    "for comida in lanche:\n",
    "    print(comida)"
   ]
  },
  {
   "cell_type": "markdown",
   "id": "1315140a",
   "metadata": {},
   "source": [
    "É criada uma variável chamada comida. Outra forma:\n"
   ]
  },
  {
   "cell_type": "code",
   "execution_count": 5,
   "id": "853bb17a",
   "metadata": {},
   "outputs": [
    {
     "name": "stdout",
     "output_type": "stream",
     "text": [
      "Eu vou comer Hamburguer na posição 0\n",
      "Eu vou comer suco na posição 1\n",
      "Eu vou comer pizza na posição 2\n",
      "Eu vou comer pudim na posição 3\n"
     ]
    }
   ],
   "source": [
    "for contador in range (0,len(lanche)):\n",
    "    print(f'Eu vou comer {lanche[contador]} na posição {contador}')"
   ]
  },
  {
   "cell_type": "markdown",
   "id": "d870d40c",
   "metadata": {},
   "source": [
    "\n",
    "As tuplas são imutáveis. Não é possível trocar esses elementos.\n"
   ]
  },
  {
   "cell_type": "code",
   "execution_count": 6,
   "id": "ad364837",
   "metadata": {},
   "outputs": [
    {
     "ename": "TypeError",
     "evalue": "'tuple' object does not support item assignment",
     "output_type": "error",
     "traceback": [
      "\u001b[1;31m---------------------------------------------------------------------------\u001b[0m",
      "\u001b[1;31mTypeError\u001b[0m                                 Traceback (most recent call last)",
      "Cell \u001b[1;32mIn[6], line 1\u001b[0m\n\u001b[1;32m----> 1\u001b[0m \u001b[43mlanche\u001b[49m\u001b[43m[\u001b[49m\u001b[38;5;241;43m1\u001b[39;49m\u001b[43m]\u001b[49m \u001b[38;5;241m=\u001b[39m \u001b[38;5;124m'\u001b[39m\u001b[38;5;124mrefrigerante\u001b[39m\u001b[38;5;124m'\u001b[39m\n\u001b[0;32m      2\u001b[0m \u001b[38;5;28mprint\u001b[39m(lanche[\u001b[38;5;241m1\u001b[39m])\n\u001b[0;32m      3\u001b[0m \u001b[38;5;66;03m#    lanche[1] = 'refrigerante'\u001b[39;00m\n\u001b[0;32m      4\u001b[0m \u001b[38;5;66;03m# TypeError: 'tuple' object does not support item assignment\u001b[39;00m\n",
      "\u001b[1;31mTypeError\u001b[0m: 'tuple' object does not support item assignment"
     ]
    }
   ],
   "source": [
    "lanche[1] = 'refrigerante'\n",
    "print(lanche[1])\n",
    "#    lanche[1] = 'refrigerante'\n",
    "# TypeError: 'tuple' object does not support item assignment\n"
   ]
  },
  {
   "cell_type": "markdown",
   "id": "ca027e50",
   "metadata": {},
   "source": [
    "\n",
    "Para verificar a posição da interação\n"
   ]
  },
  {
   "cell_type": "code",
   "execution_count": 7,
   "id": "4c971ff2",
   "metadata": {},
   "outputs": [
    {
     "name": "stdout",
     "output_type": "stream",
     "text": [
      "Hamburguer na posição 0\n",
      "suco na posição 1\n",
      "pizza na posição 2\n",
      "pudim na posição 3\n"
     ]
    }
   ],
   "source": [
    "for posicao, comida in enumerate(lanche):\n",
    "    print(f\"{comida} na posição {posicao}\")"
   ]
  },
  {
   "cell_type": "markdown",
   "id": "23065549",
   "metadata": {},
   "source": [
    "\n",
    "# Para ordenar a tupla, usamos o método sorted()"
   ]
  },
  {
   "cell_type": "code",
   "execution_count": null,
   "id": "1767083b",
   "metadata": {},
   "outputs": [
    {
     "name": "stdout",
     "output_type": "stream",
     "text": [
      "['Hamburguer', 'pizza', 'pudim', 'suco']\n",
      "('Hamburguer', 'suco', 'pizza', 'pudim')\n"
     ]
    }
   ],
   "source": [
    "print(sorted(lanche))\n",
    "print(lanche)"
   ]
  },
  {
   "cell_type": "markdown",
   "id": "4cf585fb",
   "metadata": {},
   "source": [
    "Como a tupla é imutável, apenas ela é exibida de forma ordenada. Para isso, é necessário converter para listas para ser feita essa ordenação.\n"
   ]
  },
  {
   "cell_type": "code",
   "execution_count": 9,
   "id": "e2f582fc",
   "metadata": {},
   "outputs": [
    {
     "name": "stdout",
     "output_type": "stream",
     "text": [
      "(2, 5, 4, 5, 8, 1, 2)\n"
     ]
    }
   ],
   "source": [
    "a = (2, 5, 4)\n",
    "b = (5, 8, 1, 2)\n",
    "c = a + b\n",
    "print(c)"
   ]
  },
  {
   "cell_type": "markdown",
   "id": "753704d6",
   "metadata": {},
   "source": [
    "Concatenação de tuplas, o que não representa a mesma coisa em ordem diferente.\n"
   ]
  },
  {
   "cell_type": "code",
   "execution_count": null,
   "id": "9e01435c",
   "metadata": {},
   "outputs": [],
   "source": [
    "c = b + a\n",
    "print(c)"
   ]
  },
  {
   "cell_type": "markdown",
   "id": "9c166434",
   "metadata": {},
   "source": [
    "Da mesma forma que Strings, podemos utilizar alguns métodos semelhantes. Contando quantas ocorrências do número 5:\n"
   ]
  },
  {
   "cell_type": "code",
   "execution_count": 10,
   "id": "7db8c677",
   "metadata": {},
   "outputs": [
    {
     "name": "stdout",
     "output_type": "stream",
     "text": [
      "2\n"
     ]
    }
   ],
   "source": [
    "print(c.count(5))"
   ]
  },
  {
   "cell_type": "markdown",
   "id": "3f03c086",
   "metadata": {},
   "source": [
    "Em que a primeira posição que encontra-se determinado elemento:"
   ]
  },
  {
   "cell_type": "code",
   "execution_count": null,
   "id": "b5b06315",
   "metadata": {},
   "outputs": [],
   "source": [
    "print(c.index(8))"
   ]
  },
  {
   "cell_type": "markdown",
   "id": "d070fa5c",
   "metadata": {},
   "source": [
    "Caso, seja feita essa medição apartir de determinada posição (deslocamento):"
   ]
  },
  {
   "cell_type": "code",
   "execution_count": null,
   "id": "8b424fe5",
   "metadata": {},
   "outputs": [],
   "source": [
    "print(c.index(8, 1))"
   ]
  },
  {
   "cell_type": "markdown",
   "id": "9c03fb3f",
   "metadata": {},
   "source": [
    "Onde primeiro parâmetro - elemento | segundo - apartir de qual posição\n"
   ]
  },
  {
   "cell_type": "markdown",
   "id": "ac10f7f7",
   "metadata": {},
   "source": [
    "\n",
    "# Diferentemente de outras linguagens de programação, nas tuplas podem ser colocadas vários tipos de dados:"
   ]
  },
  {
   "cell_type": "code",
   "execution_count": 11,
   "id": "b3847065",
   "metadata": {},
   "outputs": [],
   "source": [
    "pessoa = ('João', 39, 'Masculino', 83, 55)"
   ]
  },
  {
   "cell_type": "markdown",
   "id": "7bfbf75d",
   "metadata": {},
   "source": [
    "Para apagar da memória determinada tupla, usamos o método del"
   ]
  },
  {
   "cell_type": "code",
   "execution_count": 12,
   "id": "7bcb92c2",
   "metadata": {},
   "outputs": [
    {
     "ename": "NameError",
     "evalue": "name 'pessoa' is not defined",
     "output_type": "error",
     "traceback": [
      "\u001b[1;31m---------------------------------------------------------------------------\u001b[0m",
      "\u001b[1;31mNameError\u001b[0m                                 Traceback (most recent call last)",
      "Cell \u001b[1;32mIn[12], line 2\u001b[0m\n\u001b[0;32m      1\u001b[0m \u001b[38;5;28;01mdel\u001b[39;00m(pessoa)\n\u001b[1;32m----> 2\u001b[0m \u001b[38;5;28mprint\u001b[39m(\u001b[43mpessoa\u001b[49m)\n",
      "\u001b[1;31mNameError\u001b[0m: name 'pessoa' is not defined"
     ]
    }
   ],
   "source": [
    "del(pessoa)\n",
    "print(pessoa)"
   ]
  }
 ],
 "metadata": {
  "kernelspec": {
   "display_name": "Python 3",
   "language": "python",
   "name": "python3"
  },
  "language_info": {
   "codemirror_mode": {
    "name": "ipython",
    "version": 3
   },
   "file_extension": ".py",
   "mimetype": "text/x-python",
   "name": "python",
   "nbconvert_exporter": "python",
   "pygments_lexer": "ipython3",
   "version": "3.13.2"
  }
 },
 "nbformat": 4,
 "nbformat_minor": 5
}
